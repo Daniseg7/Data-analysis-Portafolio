{
  "nbformat": 4,
  "nbformat_minor": 0,
  "metadata": {
    "colab": {
      "provenance": []
    },
    "kernelspec": {
      "name": "python3",
      "display_name": "Python 3"
    },
    "language_info": {
      "name": "python"
    }
  },
  "cells": [
    {
      "cell_type": "code",
      "execution_count": null,
      "metadata": {
        "id": "_iqw_nTqNuOz"
      },
      "outputs": [],
      "source": [
        "import pandas as pd\n",
        "import numpy as np\n",
        "from sklearn.model_selection import train_test_split, KFold, cross_val_score\n",
        "from sklearn.preprocessing import StandardScaler\n",
        "from sklearn.linear_model import Ridge, Lasso\n",
        "from sklearn.metrics import mean_absolute_error, mean_squared_error, r2_score\n",
        "from sklearn.feature_selection import SelectKBest, f_regression\n",
        "\n"
      ]
    },
    {
      "cell_type": "code",
      "source": [
        "import kagglehub\n",
        "\n",
        "# Download latest version\n",
        "path = kagglehub.dataset_download(\"uciml/pima-indians-diabetes-database\")\n",
        "\n",
        "print(\"Path to dataset files:\", path)"
      ],
      "metadata": {
        "id": "5eFX19tMOHOn",
        "colab": {
          "base_uri": "https://localhost:8080/"
        },
        "outputId": "4ff8ac70-9091-426c-e468-617037758e10"
      },
      "execution_count": null,
      "outputs": [
        {
          "output_type": "stream",
          "name": "stdout",
          "text": [
            "Using Colab cache for faster access to the 'pima-indians-diabetes-database' dataset.\n",
            "Path to dataset files: /kaggle/input/pima-indians-diabetes-database\n"
          ]
        }
      ]
    },
    {
      "cell_type": "code",
      "source": [
        "import os\n",
        "\n",
        "# Ruta del dataset\n",
        "path = \"/kaggle/input/pima-indians-diabetes-database\"\n",
        "\n",
        "# Lista los archivos disponibles\n",
        "print(\"Archivos encontrados:\")\n",
        "print(os.listdir(path))\n"
      ],
      "metadata": {
        "colab": {
          "base_uri": "https://localhost:8080/"
        },
        "id": "5pbEfcUAaS0i",
        "outputId": "b14c5d15-d5ef-4e47-cbdd-17dc62d98eca"
      },
      "execution_count": null,
      "outputs": [
        {
          "output_type": "stream",
          "name": "stdout",
          "text": [
            "Archivos encontrados:\n",
            "['diabetes.csv']\n"
          ]
        }
      ]
    },
    {
      "cell_type": "code",
      "source": [
        "\n",
        "df = pd.read_csv(os.path.join(path, \"diabetes.csv\"))\n"
      ],
      "metadata": {
        "id": "y7J4r2faaY0l"
      },
      "execution_count": null,
      "outputs": []
    },
    {
      "cell_type": "code",
      "source": [
        "df = df.dropna()"
      ],
      "metadata": {
        "id": "3j3FsGI2obqi"
      },
      "execution_count": null,
      "outputs": []
    },
    {
      "cell_type": "code",
      "source": [
        "#Separación de variables\n",
        "x = df.drop(\"Glucose\", axis=1)\n",
        "y = df[\"Glucose\"]"
      ],
      "metadata": {
        "id": "NsYPAlhEmzn7"
      },
      "execution_count": null,
      "outputs": []
    },
    {
      "cell_type": "code",
      "source": [
        "#Normalización\n",
        "scaler = StandardScaler()\n",
        "x_scaled = scaler.fit_transform(x)\n"
      ],
      "metadata": {
        "id": "cYDCfBd6nA9E"
      },
      "execution_count": null,
      "outputs": []
    },
    {
      "cell_type": "code",
      "source": [
        "#Selección de características\n",
        "selector = SelectKBest(score_func=f_regression, k='all')  # Puedes ajustar kx\n",
        "x_selected = selector.fit_transform(x_scaled, y)\n"
      ],
      "metadata": {
        "id": "ZnRy40CkogwB"
      },
      "execution_count": null,
      "outputs": []
    },
    {
      "cell_type": "code",
      "source": [
        "x_train, x_test, y_train, y_test = train_test_split(x_selected, y, test_size=0.2, random_state=42)"
      ],
      "metadata": {
        "id": "C0hxej3Ho59V"
      },
      "execution_count": null,
      "outputs": []
    },
    {
      "cell_type": "code",
      "source": [
        "# 7. Modelos con regularización\n",
        "ridge = Ridge(alpha=1.0)\n",
        "lasso = Lasso(alpha=0.1)\n"
      ],
      "metadata": {
        "id": "JAvarOOyplDw"
      },
      "execution_count": null,
      "outputs": []
    },
    {
      "cell_type": "code",
      "source": [
        "# 8. Validación cruzada\n",
        "kf = KFold(n_splits=5, shuffle=True, random_state=42)\n",
        "ridge_scores = cross_val_score(ridge, x_selected, y, cv=kf, scoring='r2')\n",
        "lasso_scores = cross_val_score(lasso, x_selected, y, cv=kf, scoring='r2')\n",
        "\n",
        "print(\"Ridge CV R²:\", ridge_scores.mean())\n",
        "print(\"Lasso CV R²:\", lasso_scores.mean())\n"
      ],
      "metadata": {
        "colab": {
          "base_uri": "https://localhost:8080/"
        },
        "id": "UaBc3i47qfa6",
        "outputId": "db6ad164-c764-4647-81a5-af58c20738a0"
      },
      "execution_count": null,
      "outputs": [
        {
          "output_type": "stream",
          "name": "stdout",
          "text": [
            "Ridge CV R²: 0.32529478190613237\n",
            "Lasso CV R²: 0.32627461531704965\n"
          ]
        }
      ]
    },
    {
      "cell_type": "code",
      "source": [
        "# 9. Entrenamiento final y evaluación\n",
        "ridge.fit(x_train, y_train)\n",
        "y_pred = ridge.predict(x_test)\n",
        "\n",
        "mae = mean_absolute_error(y_test, y_pred)\n",
        "rmse = np.sqrt(mean_squared_error(y_test, y_pred))\n",
        "r2 = r2_score(y_test, y_pred)\n",
        "\n",
        "print(\"\\n🔍 Métricas de Evaluación (Ridge):\")\n",
        "print(\"MAE:\", mae)\n",
        "print(\"RMSE:\", rmse)\n",
        "print(\"R²:\", r2)\n"
      ],
      "metadata": {
        "colab": {
          "base_uri": "https://localhost:8080/"
        },
        "id": "7GEEnO8Iqxdi",
        "outputId": "3e25d01a-6b6f-4fb2-af74-1b4accb1b872"
      },
      "execution_count": null,
      "outputs": [
        {
          "output_type": "stream",
          "name": "stdout",
          "text": [
            "\n",
            "🔍 Métricas de Evaluación (Ridge):\n",
            "MAE: 20.606304531218107\n",
            "RMSE: 26.541392891255125\n",
            "R²: 0.29997093953233434\n"
          ]
        }
      ]
    },
    {
      "cell_type": "code",
      "source": [
        "pipe = Pipeline([\n",
        "    ('scaler', StandardScaler()),\n",
        "    ('ridge', Ridge())\n",
        "])\n",
        "\n",
        "params = {\n",
        "    'ridge__alpha': [0.01, 0.1, 1, 10, 100]\n",
        "}\n",
        "\n",
        "grid = GridSearchCV(pipe, params, cv=5, scoring='r2')\n",
        "grid.fit(x_train, y_train)\n",
        "\n",
        "print(\"Mejor alpha:\", grid.best_params_)\n",
        "print(\"Mejor R² (CV):\", grid.best_score_)\n",
        "\n",
        "# Evaluación en test\n",
        "y_pred = grid.predict(x_test)\n",
        "print(\"R² test:\", r2_score(y_test, y_pred))"
      ],
      "metadata": {
        "colab": {
          "base_uri": "https://localhost:8080/"
        },
        "id": "yT44Sda2vuW1",
        "outputId": "3d36e0f4-415c-4375-c286-d8498e6bf828"
      },
      "execution_count": null,
      "outputs": [
        {
          "output_type": "stream",
          "name": "stdout",
          "text": [
            "Mejor alpha: {'ridge__alpha': 10}\n",
            "Mejor R² (CV): 0.3290078608282155\n",
            "R² test: 0.30181931175226284\n"
          ]
        }
      ]
    },
    {
      "cell_type": "code",
      "source": [],
      "metadata": {
        "id": "cZoRlwy49A6U"
      },
      "execution_count": null,
      "outputs": []
    }
  ]
}